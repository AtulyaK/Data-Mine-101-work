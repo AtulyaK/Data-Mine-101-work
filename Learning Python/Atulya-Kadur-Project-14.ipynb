{
 "cells": [
  {
   "cell_type": "markdown",
   "id": "be02a957-7133-4d02-818e-fedeb3cecb05",
   "metadata": {},
   "source": [
    "# Project 14 -- Atulya Kadur"
   ]
  },
  {
   "cell_type": "markdown",
   "id": "a1228853-dd19-4ab2-89e0-0394d7d72de3",
   "metadata": {},
   "source": []
  },
  {
   "cell_type": "markdown",
   "id": "6180e742-8e39-4698-98ff-5b00c8cf8ea0",
   "metadata": {},
   "source": [
    "## Question 1"
   ]
  },
  {
   "cell_type": "markdown",
   "id": "b456e57c-4a12-464b-999a-ef2df5af80c1",
   "metadata": {},
   "source": [
    "Working with the airplane dataset was really interesting because it had a lot of cool information about flights. The way flights take off, land, and sometimes get delayed influenced how I looked at the data. For example, knowing when flights were supposed to leave and arrive helped me see when they were late. I found out that delays had variability so I calculated the number of delays in relation to the data set in Homework 11 Question 5."
   ]
  },
  {
   "cell_type": "markdown",
   "id": "fc601975-35ed-4680-a4e1-0273ee3cc047",
   "metadata": {},
   "source": [
    "## Question 2"
   ]
  },
  {
   "cell_type": "markdown",
   "id": "14dc22d4-ddc3-41cc-a91a-cb0025bc0c80",
   "metadata": {},
   "source": [
    "My favorite part of the homeworks was using Pandas DataFrames and making graphs for Project 8 Question 2, where we looked at temperature data from different weather stations. I really like Pandas because it helps me organize and analyze data easily. For example, I used the \"groupby\" function to group temperature data by station and then made line graphs to show temperature trends over time. Pandas is my favorite because it's simple to use and makes data analysis fun and straightforward. Overall, it's a great tool that helps me understand and visualize data better."
   ]
  },
  {
   "cell_type": "markdown",
   "id": "8e586edd-ff26-4ce2-8f6b-2424b26f2929",
   "metadata": {},
   "source": [
    "## Question 3"
   ]
  },
  {
   "cell_type": "markdown",
   "id": "47c6229f-35f7-400c-8366-c442baa5cf47",
   "metadata": {},
   "source": [
    "When working on projects like Project 8, Question 2, I always start by understanding what the question is asking. For example, in this project, I read the instructions carefully to know that I needed to make graphs based on weather data from different stations. Then, I break down the problem into smaller steps, like loading the data and creating graphs. To make sure my results are right, I test each step along the way, checking that functions and loops work as expected and that the graphs accurately represent the data. By taking this approach, I can tackle complex problems one step at a time and ensure that my final results are accurate and reliable."
   ]
  },
  {
   "cell_type": "markdown",
   "id": "da22f29c-d245-4d2b-9fc1-ca14cb6087d9",
   "metadata": {},
   "source": [
    "## Question 4"
   ]
  },
  {
   "cell_type": "markdown",
   "id": "0d552245-b4d6-474a-9cc9-fa7b8e674d55",
   "metadata": {},
   "source": [
    "While none of the questions I encountered were confusing, some were trickier to debug, like most of Homework 12, which had errors involving multiple classes. Looking back on the projects, the questions that felt the most confusing were those lacking detailed instructions. By providing clearer instructions and examples, questions like Project 12, Question 3, could be easier for students to understand and complete successfully."
   ]
  },
  {
   "cell_type": "markdown",
   "id": "88c9cdac-3e92-498f-83fa-e089bfc44ac8",
   "metadata": {},
   "source": [
    "## Question 5"
   ]
  },
  {
   "cell_type": "markdown",
   "id": "9fbf00fb-2418-460f-ae94-2a32b0c28952",
   "metadata": {},
   "source": [
    "Markdown notes and sentences and analysis written here."
   ]
  },
  {
   "cell_type": "markdown",
   "id": "f76442d6-d02e-4f26-b9d6-c3183e1d6929",
   "metadata": {},
   "source": [
    "## Pledge\n",
    "\n",
    "By submitting this work I hereby pledge that this is my own, personal work. I've acknowledged in the designated place at the top of this file all sources that I used to complete said work, including but not limited to: online resources, books, and electronic communications. I've noted all collaboration with fellow students and/or TA's. I did not copy or plagiarize another's work.\n",
    "\n",
    "> As a Boilermaker pursuing academic excellence, I pledge to be honest and true in all that I do. Accountable together – We are Purdue."
   ]
  }
 ],
 "metadata": {
  "kernelspec": {
   "display_name": "seminar",
   "language": "python",
   "name": "seminar"
  },
  "language_info": {
   "codemirror_mode": {
    "name": "ipython",
    "version": 3
   },
   "file_extension": ".py",
   "mimetype": "text/x-python",
   "name": "python",
   "nbconvert_exporter": "python",
   "pygments_lexer": "ipython3",
   "version": "3.11.5"
  }
 },
 "nbformat": 4,
 "nbformat_minor": 5
}
