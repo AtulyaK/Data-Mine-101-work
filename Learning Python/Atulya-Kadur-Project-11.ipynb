{
 "cells": [
  {
   "cell_type": "markdown",
   "id": "be02a957-7133-4d02-818e-fedeb3cecb05",
   "metadata": {},
   "source": [
    "# Project 11 -- Atulya Kadur"
   ]
  },
  {
   "cell_type": "markdown",
   "id": "a1228853-dd19-4ab2-89e0-0394d7d72de3",
   "metadata": {},
   "source": []
  },
  {
   "cell_type": "markdown",
   "id": "6180e742-8e39-4698-98ff-5b00c8cf8ea0",
   "metadata": {},
   "source": [
    "## Question 1"
   ]
  },
  {
   "cell_type": "code",
   "execution_count": 2,
   "id": "49445606-d363-41b4-b479-e319a9a84c01",
   "metadata": {},
   "outputs": [],
   "source": [
    "import pandas as pd"
   ]
  },
  {
   "cell_type": "code",
   "execution_count": 3,
   "id": "6fb2f163-d53b-44fc-aa28-f6448bf3a867",
   "metadata": {},
   "outputs": [],
   "source": [
    "pd.set_option('display.max_columns', None)"
   ]
  },
  {
   "cell_type": "code",
   "execution_count": 35,
   "id": "6a54b028-e925-4b82-bf09-59b2c982e29c",
   "metadata": {},
   "outputs": [],
   "source": [
    "class Flight:\n",
    "    def __init__(self, flight_number, origin_airport_ID, destination_airport_ID, departure_time, arrival_time, departure_delay, arrival_delay):\n",
    "        self.flight_number = flight_number\n",
    "        self.origin_airport_ID = origin_airport_ID\n",
    "        self.destination_airport_ID = destination_airport_ID\n",
    "        self.departure_time = departure_time\n",
    "        self.arrival_time = arrival_time\n",
    "        self.departure_delay = departure_delay\n",
    "        self.arrival_delay = arrival_delay\n",
    "    def get_arrdelay(self):\n",
    "        return self.arrival_delay\n",
    "    def get_depdelay(self):\n",
    "        return self.departure_delay"
   ]
  },
  {
   "cell_type": "markdown",
   "id": "b456e57c-4a12-464b-999a-ef2df5af80c1",
   "metadata": {},
   "source": [
    "Markdown notes and sentences and analysis written here."
   ]
  },
  {
   "cell_type": "markdown",
   "id": "fc601975-35ed-4680-a4e1-0273ee3cc047",
   "metadata": {},
   "source": [
    "## Question 2"
   ]
  },
  {
   "cell_type": "code",
   "execution_count": 7,
   "id": "c5a37bc9-8079-4d21-839b-19accad2e4d1",
   "metadata": {
    "tags": []
   },
   "outputs": [],
   "source": [
    "columns_to_read = [\n",
    "    'DepDelay', 'ArrDelay', 'Flight_Number_Reporting_Airline', 'Distance',\n",
    "    'CarrierDelay', 'WeatherDelay',\n",
    "    'DepTime', 'ArrTime', 'Origin',\n",
    "    'Dest', 'AirTime'\n",
    "]"
   ]
  },
  {
   "cell_type": "code",
   "execution_count": 8,
   "id": "2c30fbf3-dd26-4ecf-81c5-c876e0428406",
   "metadata": {},
   "outputs": [],
   "source": [
    "col_types = {\n",
    "    'DepDelay': 'float64',\n",
    "    'ArrDelay': 'float64',\n",
    "    'Distance': 'float64',\n",
    "    'CarrierDelay': 'float64',\n",
    "    'WeatherDelay': 'float64',\n",
    "    'DepTime': 'float64',\n",
    "    'ArrTime': 'float64',\n",
    "    'Diverted': 'int64',\n",
    "    'AirTime': 'float64'\n",
    "}"
   ]
  },
  {
   "cell_type": "code",
   "execution_count": 9,
   "id": "c1980b7a-215c-44ab-9cc6-c7720592da68",
   "metadata": {},
   "outputs": [],
   "source": [
    "myDF = pd.read_csv('/anvil/projects/tdm/data/flights/2014.csv',usecols = columns_to_read, dtype = col_types, nrows = 100)"
   ]
  },
  {
   "cell_type": "markdown",
   "id": "14dc22d4-ddc3-41cc-a91a-cb0025bc0c80",
   "metadata": {},
   "source": [
    "Markdown notes and sentences and analysis written here."
   ]
  },
  {
   "cell_type": "markdown",
   "id": "8e586edd-ff26-4ce2-8f6b-2424b26f2929",
   "metadata": {},
   "source": [
    "## Question 3"
   ]
  },
  {
   "cell_type": "code",
   "execution_count": 11,
   "id": "a16336a1-1ef0-41e8-bc7c-49387db27497",
   "metadata": {},
   "outputs": [
    {
     "data": {
      "text/html": [
       "<div>\n",
       "<style scoped>\n",
       "    .dataframe tbody tr th:only-of-type {\n",
       "        vertical-align: middle;\n",
       "    }\n",
       "\n",
       "    .dataframe tbody tr th {\n",
       "        vertical-align: top;\n",
       "    }\n",
       "\n",
       "    .dataframe thead th {\n",
       "        text-align: right;\n",
       "    }\n",
       "</style>\n",
       "<table border=\"1\" class=\"dataframe\">\n",
       "  <thead>\n",
       "    <tr style=\"text-align: right;\">\n",
       "      <th></th>\n",
       "      <th>Flight_Number_Reporting_Airline</th>\n",
       "      <th>Origin</th>\n",
       "      <th>Dest</th>\n",
       "      <th>DepTime</th>\n",
       "      <th>DepDelay</th>\n",
       "      <th>ArrTime</th>\n",
       "      <th>ArrDelay</th>\n",
       "      <th>AirTime</th>\n",
       "      <th>Distance</th>\n",
       "      <th>CarrierDelay</th>\n",
       "      <th>WeatherDelay</th>\n",
       "    </tr>\n",
       "  </thead>\n",
       "  <tbody>\n",
       "    <tr>\n",
       "      <th>0</th>\n",
       "      <td>2377</td>\n",
       "      <td>DFW</td>\n",
       "      <td>ICT</td>\n",
       "      <td>935.0</td>\n",
       "      <td>-5.0</td>\n",
       "      <td>1051.0</td>\n",
       "      <td>-4.0</td>\n",
       "      <td>56.0</td>\n",
       "      <td>328.0</td>\n",
       "      <td>NaN</td>\n",
       "      <td>NaN</td>\n",
       "    </tr>\n",
       "    <tr>\n",
       "      <th>1</th>\n",
       "      <td>2377</td>\n",
       "      <td>DFW</td>\n",
       "      <td>ICT</td>\n",
       "      <td>951.0</td>\n",
       "      <td>11.0</td>\n",
       "      <td>1115.0</td>\n",
       "      <td>20.0</td>\n",
       "      <td>54.0</td>\n",
       "      <td>328.0</td>\n",
       "      <td>11.0</td>\n",
       "      <td>0.0</td>\n",
       "    </tr>\n",
       "    <tr>\n",
       "      <th>2</th>\n",
       "      <td>2377</td>\n",
       "      <td>ICT</td>\n",
       "      <td>DFW</td>\n",
       "      <td>1144.0</td>\n",
       "      <td>9.0</td>\n",
       "      <td>1302.0</td>\n",
       "      <td>2.0</td>\n",
       "      <td>57.0</td>\n",
       "      <td>328.0</td>\n",
       "      <td>NaN</td>\n",
       "      <td>NaN</td>\n",
       "    </tr>\n",
       "    <tr>\n",
       "      <th>3</th>\n",
       "      <td>2377</td>\n",
       "      <td>ICT</td>\n",
       "      <td>DFW</td>\n",
       "      <td>1134.0</td>\n",
       "      <td>-1.0</td>\n",
       "      <td>1253.0</td>\n",
       "      <td>-7.0</td>\n",
       "      <td>53.0</td>\n",
       "      <td>328.0</td>\n",
       "      <td>NaN</td>\n",
       "      <td>NaN</td>\n",
       "    </tr>\n",
       "    <tr>\n",
       "      <th>4</th>\n",
       "      <td>2377</td>\n",
       "      <td>ICT</td>\n",
       "      <td>DFW</td>\n",
       "      <td>1129.0</td>\n",
       "      <td>-6.0</td>\n",
       "      <td>1244.0</td>\n",
       "      <td>-16.0</td>\n",
       "      <td>52.0</td>\n",
       "      <td>328.0</td>\n",
       "      <td>NaN</td>\n",
       "      <td>NaN</td>\n",
       "    </tr>\n",
       "  </tbody>\n",
       "</table>\n",
       "</div>"
      ],
      "text/plain": [
       "   Flight_Number_Reporting_Airline Origin Dest  DepTime  DepDelay  ArrTime  \\\n",
       "0                             2377    DFW  ICT    935.0      -5.0   1051.0   \n",
       "1                             2377    DFW  ICT    951.0      11.0   1115.0   \n",
       "2                             2377    ICT  DFW   1144.0       9.0   1302.0   \n",
       "3                             2377    ICT  DFW   1134.0      -1.0   1253.0   \n",
       "4                             2377    ICT  DFW   1129.0      -6.0   1244.0   \n",
       "\n",
       "   ArrDelay  AirTime  Distance  CarrierDelay  WeatherDelay  \n",
       "0      -4.0     56.0     328.0           NaN           NaN  \n",
       "1      20.0     54.0     328.0          11.0           0.0  \n",
       "2       2.0     57.0     328.0           NaN           NaN  \n",
       "3      -7.0     53.0     328.0           NaN           NaN  \n",
       "4     -16.0     52.0     328.0           NaN           NaN  "
      ]
     },
     "execution_count": 11,
     "metadata": {},
     "output_type": "execute_result"
    }
   ],
   "source": [
    "myDF.head()"
   ]
  },
  {
   "cell_type": "code",
   "execution_count": 22,
   "id": "1183bbbf-4bd1-4f30-9fe4-669d73bd142d",
   "metadata": {},
   "outputs": [],
   "source": [
    "longlistflights = []\n",
    "for index, row in myDF.iterrows():\n",
    "    myflight = Flight(\n",
    "        flight_number = row['Flight_Number_Reporting_Airline'],\n",
    "        origin_airport_ID = row['Origin'], \n",
    "        destination_airport_ID = row['Dest'], \n",
    "        departure_time = row['DepTime'], \n",
    "        arrival_time = row['ArrTime'], \n",
    "        departure_delay = row['DepDelay'], \n",
    "        arrival_delay = row['ArrDelay'],\n",
    "    )\n",
    "    longlistflights.append(myflight)"
   ]
  },
  {
   "cell_type": "code",
   "execution_count": 18,
   "id": "425066aa-2e69-4bbf-b5b6-6ebf8e37dbd2",
   "metadata": {},
   "outputs": [
    {
     "data": {
      "text/plain": [
       "100"
      ]
     },
     "execution_count": 18,
     "metadata": {},
     "output_type": "execute_result"
    }
   ],
   "source": [
    "len(delays_dest)"
   ]
  },
  {
   "cell_type": "code",
   "execution_count": 23,
   "id": "45ace80b-19b3-46eb-be50-6a700e455a08",
   "metadata": {},
   "outputs": [],
   "source": [
    "delays_dest = {}\n",
    "for flight in longlistflights:\n",
    "    if flight.destination_airport_ID not in delays_dest:\n",
    "        delays_dest[flight.destination_airport_ID] = []\n",
    "    delays_dest[flight.destination_airport_ID].append(flight.get_arrdelay())"
   ]
  },
  {
   "cell_type": "code",
   "execution_count": 25,
   "id": "063d15ce-3232-442e-9f24-ef5e67ad57c4",
   "metadata": {},
   "outputs": [],
   "source": [
    "average_delays = {myairport: sum(mydelays)/len(mydelays) for myairport, mydelays in delays_dest.items()}"
   ]
  },
  {
   "cell_type": "code",
   "execution_count": 26,
   "id": "d2af0cf3-c51f-4ed0-a3d1-3e2642adf718",
   "metadata": {},
   "outputs": [
    {
     "data": {
      "text/plain": [
       "{'ICT': 8.0,\n",
       " 'DFW': 4.612903225806452,\n",
       " 'TPA': 9.0,\n",
       " 'OGG': -34.625,\n",
       " 'SJC': -10.333333333333334,\n",
       " 'KOA': -39.5,\n",
       " 'SMF': -8.0,\n",
       " 'SEA': -14.777777777777779,\n",
       " 'PDX': -25.0,\n",
       " 'OAK': -17.5,\n",
       " 'HNL': -28.714285714285715,\n",
       " 'SAN': -12.0,\n",
       " 'ANC': -27.0,\n",
       " 'LIH': -41.0,\n",
       " 'BLI': -18.0,\n",
       " 'DCA': -22.0}"
      ]
     },
     "execution_count": 26,
     "metadata": {},
     "output_type": "execute_result"
    }
   ],
   "source": [
    "average_delays"
   ]
  },
  {
   "cell_type": "code",
   "execution_count": 27,
   "id": "a1287c5a-d8d7-4e85-a23d-ce9c45760259",
   "metadata": {},
   "outputs": [
    {
     "data": {
      "text/plain": [
       "{'ICT': [-4.0, 20.0],\n",
       " 'DFW': [2.0,\n",
       "  -7.0,\n",
       "  -16.0,\n",
       "  1.0,\n",
       "  9.0,\n",
       "  30.0,\n",
       "  27.0,\n",
       "  8.0,\n",
       "  91.0,\n",
       "  -3.0,\n",
       "  -13.0,\n",
       "  21.0,\n",
       "  -2.0,\n",
       "  -6.0,\n",
       "  -16.0,\n",
       "  37.0,\n",
       "  19.0,\n",
       "  -17.0,\n",
       "  -11.0,\n",
       "  5.0,\n",
       "  34.0,\n",
       "  -2.0,\n",
       "  -3.0,\n",
       "  -2.0,\n",
       "  -26.0,\n",
       "  -17.0,\n",
       "  -14.0,\n",
       "  -7.0,\n",
       "  15.0,\n",
       "  -19.0,\n",
       "  25.0],\n",
       " 'TPA': [-10.0,\n",
       "  57.0,\n",
       "  -1.0,\n",
       "  53.0,\n",
       "  83.0,\n",
       "  34.0,\n",
       "  -15.0,\n",
       "  12.0,\n",
       "  16.0,\n",
       "  -11.0,\n",
       "  2.0,\n",
       "  -11.0,\n",
       "  -4.0,\n",
       "  -7.0,\n",
       "  -14.0,\n",
       "  -10.0,\n",
       "  34.0,\n",
       "  -10.0,\n",
       "  -5.0,\n",
       "  -13.0],\n",
       " 'OGG': [-65.0, -52.0, -18.0, -17.0, -44.0, -42.0, -39.0, 0.0],\n",
       " 'SJC': [-12.0, -16.0, -3.0],\n",
       " 'KOA': [-34.0, -42.0, -46.0, -36.0],\n",
       " 'SMF': [-8.0],\n",
       " 'SEA': [-16.0, 4.0, 4.0, -3.0, -38.0, -20.0, -19.0, -15.0, -30.0],\n",
       " 'PDX': [-32.0, -21.0, -22.0],\n",
       " 'OAK': [-14.0, -21.0],\n",
       " 'HNL': [-52.0, -23.0, -36.0, -29.0, -36.0, -8.0, -17.0],\n",
       " 'SAN': [8.0, -21.0, -23.0],\n",
       " 'ANC': [-27.0, -27.0],\n",
       " 'LIH': [-58.0, -24.0],\n",
       " 'BLI': [-18.0],\n",
       " 'DCA': [-21.0, -23.0]}"
      ]
     },
     "execution_count": 27,
     "metadata": {},
     "output_type": "execute_result"
    }
   ],
   "source": [
    "delays_dest"
   ]
  },
  {
   "cell_type": "markdown",
   "id": "47c6229f-35f7-400c-8366-c442baa5cf47",
   "metadata": {},
   "source": [
    "Markdown notes and sentences and analysis written here."
   ]
  },
  {
   "cell_type": "markdown",
   "id": "da22f29c-d245-4d2b-9fc1-ca14cb6087d9",
   "metadata": {},
   "source": [
    "## Question 4"
   ]
  },
  {
   "cell_type": "code",
   "execution_count": 31,
   "id": "8cffc767-d1c8-4d64-b7dc-f0d2ee8a80d1",
   "metadata": {},
   "outputs": [],
   "source": [
    "def arr_avg_delays(flightlist):\n",
    "    \"\"\"\n",
    "    function gets a collection of flight objects then outputs an dictionary of the average delays for each airport\n",
    "    \"\"\"\n",
    "    delays_dest = {}\n",
    "    for flight in flightlist:\n",
    "        if flight.destination_airport_ID not in delays_dest:\n",
    "            delays_dest[flight.destination_airport_ID] = []\n",
    "        delays_dest[flight.destination_airport_ID].append(flight.get_arrdelay())\n",
    "    average_delays = {myairport: sum(mydelays)/len(mydelays) for myairport, mydelays in delays_dest.items()}\n",
    "    return average_delays"
   ]
  },
  {
   "cell_type": "code",
   "execution_count": 29,
   "id": "40d52edd-4b3d-4a0a-ad17-514b0f7fd466",
   "metadata": {},
   "outputs": [
    {
     "data": {
      "text/plain": [
       "{'ICT': 8.0,\n",
       " 'DFW': 4.612903225806452,\n",
       " 'TPA': 9.0,\n",
       " 'OGG': -34.625,\n",
       " 'SJC': -10.333333333333334,\n",
       " 'KOA': -39.5,\n",
       " 'SMF': -8.0,\n",
       " 'SEA': -14.777777777777779,\n",
       " 'PDX': -25.0,\n",
       " 'OAK': -17.5,\n",
       " 'HNL': -28.714285714285715,\n",
       " 'SAN': -12.0,\n",
       " 'ANC': -27.0,\n",
       " 'LIH': -41.0,\n",
       " 'BLI': -18.0,\n",
       " 'DCA': -22.0}"
      ]
     },
     "execution_count": 29,
     "metadata": {},
     "output_type": "execute_result"
    }
   ],
   "source": [
    "arr_avg_delays(longlistflights)"
   ]
  },
  {
   "cell_type": "markdown",
   "id": "0d552245-b4d6-474a-9cc9-fa7b8e674d55",
   "metadata": {},
   "source": [
    "Markdown notes and sentences and analysis written here."
   ]
  },
  {
   "cell_type": "markdown",
   "id": "88c9cdac-3e92-498f-83fa-e089bfc44ac8",
   "metadata": {},
   "source": [
    "## Question 5"
   ]
  },
  {
   "cell_type": "code",
   "execution_count": 38,
   "id": "d370d7c9-06db-42b9-b75f-240481a5c491",
   "metadata": {},
   "outputs": [],
   "source": [
    "longlistflights = []\n",
    "for index, row in myDF.iterrows():\n",
    "    myflight = Flight(\n",
    "        flight_number = row['Flight_Number_Reporting_Airline'],\n",
    "        origin_airport_ID = row['Origin'], \n",
    "        destination_airport_ID = row['Dest'], \n",
    "        departure_time = row['DepTime'], \n",
    "        arrival_time = row['ArrTime'], \n",
    "        departure_delay = row['DepDelay'], \n",
    "        arrival_delay = row['ArrDelay'],\n",
    "    )\n",
    "    longlistflights.append(myflight)"
   ]
  },
  {
   "cell_type": "code",
   "execution_count": 42,
   "id": "1595e3a4-da83-48f1-af41-a5bc5db05646",
   "metadata": {},
   "outputs": [],
   "source": [
    "class Flight:\n",
    "    def __init__(self, flight_number, origin_airport_ID, destination_airport_ID, departure_time, arrival_time, departure_delay, arrival_delay):\n",
    "        self.flight_number = flight_number\n",
    "        self.origin_airport_ID = origin_airport_ID\n",
    "        self.destination_airport_ID = destination_airport_ID\n",
    "        self.departure_time = departure_time\n",
    "        self.arrival_time = arrival_time\n",
    "        self.departure_delay = departure_delay\n",
    "        self.arrival_delay = arrival_delay\n",
    "    def get_arrdelay(self):\n",
    "        return self.arrival_delay\n",
    "    def get_depdelay(self):\n",
    "        return self.departure_delay"
   ]
  },
  {
   "cell_type": "code",
   "execution_count": 45,
   "id": "62d8c013-644e-4b38-8eec-1369194b0105",
   "metadata": {},
   "outputs": [],
   "source": [
    "def dep_avg_delays(flightlist):\n",
    "    \"\"\"\n",
    "    function inputs a collection of flights and returns the average of the departure times for each airport\n",
    "    \"\"\"\n",
    "    delays_origin = {}\n",
    "    for flight in flightlist:\n",
    "        if flight.origin_airport_ID not in delays_origin:\n",
    "            delays_origin[flight.origin_airport_ID] = []\n",
    "        delays_origin[flight.origin_airport_ID].append(flight.get_depdelay())\n",
    "    average_delays = {myairport: sum(mydelays)/len(mydelays) for myairport, mydelays in delays_origin.items()}\n",
    "    return average_delays"
   ]
  },
  {
   "cell_type": "code",
   "execution_count": 46,
   "id": "0cb77a72-383c-457b-9296-bcf597c3821f",
   "metadata": {},
   "outputs": [
    {
     "data": {
      "text/plain": [
       "{'DFW': 3.0,\n",
       " 'ICT': 10.612903225806452,\n",
       " 'MIA': 15.05,\n",
       " 'BLI': -10.5,\n",
       " 'PDX': -9.75,\n",
       " 'OGG': -5.777777777777778,\n",
       " 'OAK': -7.0,\n",
       " 'SMF': -9.0,\n",
       " 'KOA': -13.5,\n",
       " 'HNL': -6.285714285714286,\n",
       " 'SJC': -4.0,\n",
       " 'SEA': -2.6666666666666665,\n",
       " 'SAN': -4.0,\n",
       " 'LIH': -8.0,\n",
       " 'ANC': -9.0,\n",
       " 'DCA': -7.5}"
      ]
     },
     "execution_count": 46,
     "metadata": {},
     "output_type": "execute_result"
    }
   ],
   "source": [
    "dep_avg_delays(longlistflights)"
   ]
  },
  {
   "cell_type": "code",
   "execution_count": null,
   "id": "f24af3f2-b70d-4f9f-addf-ca724487773e",
   "metadata": {},
   "outputs": [],
   "source": []
  },
  {
   "cell_type": "markdown",
   "id": "9fbf00fb-2418-460f-ae94-2a32b0c28952",
   "metadata": {},
   "source": [
    "Markdown notes and sentences and analysis written here."
   ]
  },
  {
   "cell_type": "markdown",
   "id": "f76442d6-d02e-4f26-b9d6-c3183e1d6929",
   "metadata": {},
   "source": [
    "## Pledge\n",
    "\n",
    "By submitting this work I hereby pledge that this is my own, personal work. I've acknowledged in the designated place at the top of this file all sources that I used to complete said work, including but not limited to: online resources, books, and electronic communications. I've noted all collaboration with fellow students and/or TA's. I did not copy or plagiarize another's work.\n",
    "\n",
    "> As a Boilermaker pursuing academic excellence, I pledge to be honest and true in all that I do. Accountable together – We are Purdue."
   ]
  }
 ],
 "metadata": {
  "kernelspec": {
   "display_name": "seminar",
   "language": "python",
   "name": "seminar"
  },
  "language_info": {
   "codemirror_mode": {
    "name": "ipython",
    "version": 3
   },
   "file_extension": ".py",
   "mimetype": "text/x-python",
   "name": "python",
   "nbconvert_exporter": "python",
   "pygments_lexer": "ipython3",
   "version": "3.11.5"
  }
 },
 "nbformat": 4,
 "nbformat_minor": 5
}
