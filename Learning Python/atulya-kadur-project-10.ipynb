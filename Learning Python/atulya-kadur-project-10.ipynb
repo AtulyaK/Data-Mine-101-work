{
 "cells": [
  {
   "cell_type": "markdown",
   "id": "be02a957-7133-4d02-818e-fedeb3cecb05",
   "metadata": {},
   "source": [
    "# Project 10 -- Atulya Kadur"
   ]
  },
  {
   "cell_type": "markdown",
   "id": "a1228853-dd19-4ab2-89e0-0394d7d72de3",
   "metadata": {},
   "source": []
  },
  {
   "cell_type": "markdown",
   "id": "6180e742-8e39-4698-98ff-5b00c8cf8ea0",
   "metadata": {},
   "source": [
    "## Question 1"
   ]
  },
  {
   "cell_type": "code",
   "execution_count": 13,
   "id": "49445606-d363-41b4-b479-e319a9a84c01",
   "metadata": {},
   "outputs": [],
   "source": [
    "import pandas as pd"
   ]
  },
  {
   "cell_type": "code",
   "execution_count": 14,
   "id": "fff0d597-b543-40ae-9dd9-6e33682e85b1",
   "metadata": {},
   "outputs": [],
   "source": [
    "import numpy as np"
   ]
  },
  {
   "cell_type": "code",
   "execution_count": 3,
   "id": "e1e2934b-32db-47b8-a806-ff5019842760",
   "metadata": {},
   "outputs": [],
   "source": [
    "pd.set_option('display.max_columns', None)"
   ]
  },
  {
   "cell_type": "code",
   "execution_count": 4,
   "id": "f0128a90-bf66-4cdc-b81e-2ca4f69187df",
   "metadata": {},
   "outputs": [],
   "source": [
    "cols = ['DepDelay', 'ArrDelay', 'Distance','CarrierDelay', 'WeatherDelay','DepTime', 'ArrTime', 'Diverted', 'AirTime']"
   ]
  },
  {
   "cell_type": "code",
   "execution_count": 5,
   "id": "72d91e26-ebca-4564-9cdc-292d9d7be071",
   "metadata": {},
   "outputs": [],
   "source": [
    "col_types = {\n",
    "    'DepDelay': 'float64',\n",
    "    'ArrDelay': 'float64',\n",
    "    'Distance': 'float64',\n",
    "    'CarrierDelay': 'float64',\n",
    "    'WeatherDelay': 'float64',\n",
    "    'DepTime': 'float64',\n",
    "    'ArrTime': 'float64',\n",
    "    'Diverted': 'int64',\n",
    "    'AirTime': 'float64'\n",
    "}"
   ]
  },
  {
   "cell_type": "code",
   "execution_count": 6,
   "id": "abac145c-8928-4e25-9ea8-761219ad8f7d",
   "metadata": {},
   "outputs": [],
   "source": [
    "myDF = pd.read_csv('/anvil/projects/tdm/data/flights/2014.csv', usecols = cols, dtype = col_types)"
   ]
  },
  {
   "cell_type": "code",
   "execution_count": 7,
   "id": "333ac626-0302-4eed-a514-dc869e775da8",
   "metadata": {},
   "outputs": [
    {
     "data": {
      "text/plain": [
       "<bound method NDFrame.head of          DepTime  DepDelay  ArrTime  ArrDelay  Diverted  AirTime  Distance  \\\n",
       "0          935.0      -5.0   1051.0      -4.0         0     56.0     328.0   \n",
       "1          951.0      11.0   1115.0      20.0         0     54.0     328.0   \n",
       "2         1144.0       9.0   1302.0       2.0         0     57.0     328.0   \n",
       "3         1134.0      -1.0   1253.0      -7.0         0     53.0     328.0   \n",
       "4         1129.0      -6.0   1244.0     -16.0         0     52.0     328.0   \n",
       "...          ...       ...      ...       ...       ...      ...       ...   \n",
       "5819806   1029.0      14.0   1119.0      16.0         0     34.0     164.0   \n",
       "5819807   1010.0      -5.0   1105.0       2.0         0     33.0     164.0   \n",
       "5819808   1003.0     -12.0   1054.0      -9.0         0     31.0     164.0   \n",
       "5819809   1005.0       0.0   1100.0       7.0         0     35.0     164.0   \n",
       "5819810   1014.0       9.0   1111.0      18.0         0     37.0     164.0   \n",
       "\n",
       "         CarrierDelay  WeatherDelay  \n",
       "0                 NaN           NaN  \n",
       "1                11.0           0.0  \n",
       "2                 NaN           NaN  \n",
       "3                 NaN           NaN  \n",
       "4                 NaN           NaN  \n",
       "...               ...           ...  \n",
       "5819806          14.0           0.0  \n",
       "5819807           NaN           NaN  \n",
       "5819808           NaN           NaN  \n",
       "5819809           NaN           NaN  \n",
       "5819810           0.0           9.0  \n",
       "\n",
       "[5819811 rows x 9 columns]>"
      ]
     },
     "execution_count": 7,
     "metadata": {},
     "output_type": "execute_result"
    }
   ],
   "source": [
    "myDF.head"
   ]
  },
  {
   "cell_type": "code",
   "execution_count": null,
   "id": "19f140be-24d4-4f42-be8e-de53fa3fc1f7",
   "metadata": {},
   "outputs": [],
   "source": []
  },
  {
   "cell_type": "markdown",
   "id": "b456e57c-4a12-464b-999a-ef2df5af80c1",
   "metadata": {},
   "source": [
    "Markdown notes and sentences and analysis written here."
   ]
  },
  {
   "cell_type": "markdown",
   "id": "fc601975-35ed-4680-a4e1-0273ee3cc047",
   "metadata": {},
   "source": [
    "## Question 2"
   ]
  },
  {
   "cell_type": "code",
   "execution_count": 43,
   "id": "a16336a1-1ef0-41e8-bc7c-49387db27497",
   "metadata": {},
   "outputs": [],
   "source": [
    "mydelays = myDF['DepDelay'].to_numpy()"
   ]
  },
  {
   "cell_type": "code",
   "execution_count": 44,
   "id": "ddb0bfd8-cffd-4ce5-82f0-00e7acc31e75",
   "metadata": {},
   "outputs": [
    {
     "data": {
      "text/plain": [
       "(5819811,)"
      ]
     },
     "execution_count": 44,
     "metadata": {},
     "output_type": "execute_result"
    }
   ],
   "source": [
    "mydelays.shape"
   ]
  },
  {
   "cell_type": "code",
   "execution_count": 45,
   "id": "515f99b6-b2b6-4065-91bd-7898a464ed8a",
   "metadata": {},
   "outputs": [
    {
     "data": {
      "text/plain": [
       "dtype('float64')"
      ]
     },
     "execution_count": 45,
     "metadata": {},
     "output_type": "execute_result"
    }
   ],
   "source": [
    "mydelays.dtype"
   ]
  },
  {
   "cell_type": "code",
   "execution_count": 46,
   "id": "1658072e-d2bc-42ca-9b30-8b4b92cdc31f",
   "metadata": {},
   "outputs": [],
   "source": [
    "mydelays = np.nan_to_num(mydelays, nan = 0)"
   ]
  },
  {
   "cell_type": "code",
   "execution_count": 47,
   "id": "a7bc8071-fd67-4466-8543-4454d8e9db4c",
   "metadata": {},
   "outputs": [
    {
     "data": {
      "text/plain": [
       "0"
      ]
     },
     "execution_count": 47,
     "metadata": {},
     "output_type": "execute_result"
    }
   ],
   "source": [
    "#checks number of nan values\n",
    "np.count_nonzero(np.isnan(mydelays))"
   ]
  },
  {
   "cell_type": "code",
   "execution_count": 48,
   "id": "26539292-6137-4260-8fae-b5ebe1fdd069",
   "metadata": {},
   "outputs": [
    {
     "name": "stdout",
     "output_type": "stream",
     "text": [
      "The average Departure Delay before adding 15 minutes is: 10.417677824932802\n"
     ]
    }
   ],
   "source": [
    "print(f\"The average Departure Delay before adding 15 minutes is: {np.mean(mydelays)}\")"
   ]
  },
  {
   "cell_type": "code",
   "execution_count": 49,
   "id": "2a2e11fc-3528-4793-a01c-1f7cc2fbf3cb",
   "metadata": {},
   "outputs": [
    {
     "name": "stdout",
     "output_type": "stream",
     "text": [
      "The average Departure Delay before adding 15 minutes is: 25.417677824932802\n"
     ]
    }
   ],
   "source": [
    "print(f\"The average Departure Delay before adding 15 minutes is: {np.mean(mydelays + 15)}\")"
   ]
  },
  {
   "cell_type": "markdown",
   "id": "14dc22d4-ddc3-41cc-a91a-cb0025bc0c80",
   "metadata": {},
   "source": [
    "Markdown notes and sentences and analysis written here."
   ]
  },
  {
   "cell_type": "markdown",
   "id": "8e586edd-ff26-4ce2-8f6b-2424b26f2929",
   "metadata": {},
   "source": [
    "## Question 3"
   ]
  },
  {
   "cell_type": "code",
   "execution_count": 50,
   "id": "bbe0f40d-9655-4653-9ca8-886bdb61cb91",
   "metadata": {},
   "outputs": [],
   "source": [
    "arrdelays = myDF['ArrDelay'].to_numpy()"
   ]
  },
  {
   "cell_type": "code",
   "execution_count": 51,
   "id": "75b5666f-b3b2-4caf-af27-f1048a6154ea",
   "metadata": {},
   "outputs": [],
   "source": [
    "arrdelays = np.nan_to_num(mydelays, nan = 0)"
   ]
  },
  {
   "cell_type": "code",
   "execution_count": 56,
   "id": "62a46488-ec9e-45d8-aee3-9f87df512d7f",
   "metadata": {},
   "outputs": [
    {
     "name": "stdout",
     "output_type": "stream",
     "text": [
      "Max Arrival Delay: 2402.0 minutes\n"
     ]
    }
   ],
   "source": [
    "print(f\"Max Arrival Delay: {np.max(arrdelays)} minutes\")"
   ]
  },
  {
   "cell_type": "code",
   "execution_count": 57,
   "id": "fb95c49f-4512-4c7b-b098-318ae00b8406",
   "metadata": {},
   "outputs": [
    {
     "name": "stdout",
     "output_type": "stream",
     "text": [
      "Max Arrival Delay: -251.0 minutes\n"
     ]
    }
   ],
   "source": [
    "print(f\"Max Arrival Delay: {np.min(arrdelays)} minutes\")"
   ]
  },
  {
   "cell_type": "markdown",
   "id": "47c6229f-35f7-400c-8366-c442baa5cf47",
   "metadata": {},
   "source": [
    "Markdown notes and sentences and analysis written here."
   ]
  },
  {
   "cell_type": "markdown",
   "id": "da22f29c-d245-4d2b-9fc1-ca14cb6087d9",
   "metadata": {},
   "source": [
    "## Question 4"
   ]
  },
  {
   "cell_type": "code",
   "execution_count": 58,
   "id": "8cffc767-d1c8-4d64-b7dc-f0d2ee8a80d1",
   "metadata": {},
   "outputs": [],
   "source": [
    "import time"
   ]
  },
  {
   "cell_type": "code",
   "execution_count": 61,
   "id": "03685f93-1241-4973-a495-dcce96d992e4",
   "metadata": {},
   "outputs": [
    {
     "name": "stdout",
     "output_type": "stream",
     "text": [
      "Mean of FLight distance delayed: 802.8335471152606\n",
      "\n",
      "Used time is 0.14834904670715332\n"
     ]
    }
   ],
   "source": [
    "start_time = time.time()\n",
    "\n",
    "delayedflights = myDF[ (myDF['ArrTime'] > 60) | (myDF['DepTime'] > 60)]\n",
    "print(f\"Mean of FLight distance delayed: {delayedflights['Distance'].mean()}\\n\")\n",
    "\n",
    "end_time = time.time()\n",
    "print(f\"Used time is {end_time - start_time}\")"
   ]
  },
  {
   "cell_type": "markdown",
   "id": "0d552245-b4d6-474a-9cc9-fa7b8e674d55",
   "metadata": {},
   "source": [
    "Markdown notes and sentences and analysis written here."
   ]
  },
  {
   "cell_type": "markdown",
   "id": "88c9cdac-3e92-498f-83fa-e089bfc44ac8",
   "metadata": {},
   "source": [
    "## Question 5"
   ]
  },
  {
   "cell_type": "code",
   "execution_count": 65,
   "id": "d370d7c9-06db-42b9-b75f-240481a5c491",
   "metadata": {},
   "outputs": [
    {
     "name": "stdout",
     "output_type": "stream",
     "text": [
      "Mean of FLight distance delayed: 802.8335471152606\n",
      "\n",
      "Used time is 0.019371509552001953\n"
     ]
    }
   ],
   "source": [
    "start_time = time.time()\n",
    "\n",
    "DepDelay = myDF['DepTime'].to_numpy()\n",
    "ArrDelay = myDF['ArrTime'].to_numpy()\n",
    "Distance = myDF['Distance'].to_numpy()\n",
    "\n",
    "delayed_flights_numpy = Distance[(DepDelay > 60) | (ArrDelay > 60)]\n",
    "print(f\"Mean of FLight distance delayed: {np.mean(delayed_flights_numpy)}\\n\")\n",
    "\n",
    "\n",
    "end_time = time.time()\n",
    "print(f\"Used time is {end_time - start_time}\")"
   ]
  },
  {
   "cell_type": "markdown",
   "id": "9fbf00fb-2418-460f-ae94-2a32b0c28952",
   "metadata": {},
   "source": [
    "Part e:\n",
    "What I understand is numpy simply is faster than pandas. Numpy is something that Pandas is built on top of. As a result, pandas are faster. Pandas can handle bigger datasets better than numpy does. I personally like Pandas more because the syntax is more intuitive, but numpy is very similar."
   ]
  },
  {
   "cell_type": "markdown",
   "id": "554151de-af4f-46b0-8615-8ec812beb244",
   "metadata": {},
   "source": [
    "Markdown notes and sentences and analysis written here."
   ]
  },
  {
   "cell_type": "markdown",
   "id": "f76442d6-d02e-4f26-b9d6-c3183e1d6929",
   "metadata": {},
   "source": [
    "By submitting this work I hereby pledge that this is my own, personal work. I've acknowledged in the designated place at the top of this file all sources that I used to complete said work, including but not limited to: online resources, books, and electronic communications. I've noted all collaboration with fellow students and/or TA's. I did not copy or plagiarize another's work.\n",
    "\n",
    "> As a Boilermaker pursuing academic excellence, I pledge to be honest and true in all that I do. Accountable together – We are Purdue."
   ]
  }
 ],
 "metadata": {
  "kernelspec": {
   "display_name": "seminar",
   "language": "python",
   "name": "seminar"
  },
  "language_info": {
   "codemirror_mode": {
    "name": "ipython",
    "version": 3
   },
   "file_extension": ".py",
   "mimetype": "text/x-python",
   "name": "python",
   "nbconvert_exporter": "python",
   "pygments_lexer": "ipython3",
   "version": "3.11.5"
  }
 },
 "nbformat": 4,
 "nbformat_minor": 5
}
