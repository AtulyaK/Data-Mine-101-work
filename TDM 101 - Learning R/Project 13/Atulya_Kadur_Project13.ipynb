{
 "cells": [
  {
   "cell_type": "markdown",
   "id": "be02a957-7133-4d02-818e-fedeb3cecb05",
   "metadata": {},
   "source": [
    "# Project 13 -- Atulya Kadur"
   ]
  },
  {
   "cell_type": "markdown",
   "id": "a1228853-dd19-4ab2-89e0-0394d7d72de3",
   "metadata": {},
   "source": [
    "**TA Help:** John Smith, Alice Jones\n",
    "\n",
    "- Help with figuring out how to write a function.\n",
    "    \n",
    "**Collaboration:** Friend1, Friend2\n",
    "    \n",
    "- Helped figuring out how to load the dataset.\n",
    "- Helped debug error with my plot."
   ]
  },
  {
   "cell_type": "markdown",
   "id": "6180e742-8e39-4698-98ff-5b00c8cf8ea0",
   "metadata": {},
   "source": [
    "## Question 1"
   ]
  },
  {
   "cell_type": "code",
   "execution_count": 2,
   "id": "8bf3dc4b-3c50-42b5-971c-ed7c421f052c",
   "metadata": {},
   "outputs": [],
   "source": [
    "options(jupyter.rich_display = F) "
   ]
  },
  {
   "cell_type": "code",
   "execution_count": 3,
   "id": "44f67310-787f-4548-80b7-32dfe2a7683a",
   "metadata": {},
   "outputs": [],
   "source": [
    "library(data.table)"
   ]
  },
  {
   "cell_type": "code",
   "execution_count": 4,
   "id": "49445606-d363-41b4-b479-e319a9a84c01",
   "metadata": {},
   "outputs": [],
   "source": [
    "orders <- fread(\"/anvil/projects/tdm/data/icecream/combined/products.csv\")"
   ]
  },
  {
   "cell_type": "code",
   "execution_count": 17,
   "id": "b5ca463b-c12f-4831-99c0-4be0dbc2b8a4",
   "metadata": {},
   "outputs": [],
   "source": [
    "mybrands <- c(\"bj\", \"breyers\", \"talenti\")\n",
    "myfiles <- paste0(\"/anvil/projects/tdm/data/icecream/\", mybrands, \"/reviews.csv\")\n",
    "bigDF <- do.call(rbind, lapply(myfiles, fread))"
   ]
  },
  {
   "cell_type": "markdown",
   "id": "b456e57c-4a12-464b-999a-ef2df5af80c1",
   "metadata": {},
   "source": [
    "Markdown notes and sentences and analysis written here."
   ]
  },
  {
   "cell_type": "code",
   "execution_count": 20,
   "id": "a16336a1-1ef0-41e8-bc7c-49387db27497",
   "metadata": {},
   "outputs": [],
   "source": [
    "sum <- tapply(orders$rating_count, orders$brand, sum)"
   ]
  },
  {
   "cell_type": "code",
   "execution_count": 23,
   "id": "35fa00e0-09a0-496e-9d63-41dd214fa2aa",
   "metadata": {},
   "outputs": [
    {
     "data": {
      "text/plain": [
       "     bj breyers      hd talenti \n",
       "   7954    5009    4657    4074 "
      ]
     },
     "metadata": {},
     "output_type": "display_data"
    }
   ],
   "source": [
    "sum"
   ]
  },
  {
   "cell_type": "code",
   "execution_count": 49,
   "id": "1ce809d2-d576-488c-93f6-917b317ae76c",
   "metadata": {},
   "outputs": [
    {
     "data": {
      "image/png": "[encoded data removed]",
      "text/plain": [
       "Plot with title \"Ice Cream Brand Rating Bar Plot\""
      ]
     },
     "metadata": {
      "image/png": {
       "height": 420,
       "width": 420
      }
     },
     "output_type": "display_data"
    }
   ],
   "source": [
    "barplot(sum, main = \"Ice Cream Brand Rating Bar Plot\", ylab = \"sum of the ratings\", xlab = \"the list of the brands\")"
   ]
  },
  {
   "cell_type": "code",
   "execution_count": 51,
   "id": "e90149fc-4f4b-42da-8790-01deb2a8b413",
   "metadata": {},
   "outputs": [
    {
     "data": {
      "text/plain": [
       "[1] \"brand\"        \"key\"          \"name\"         \"subhead\"      \"description\" \n",
       "[6] \"rating\"       \"rating_count\" \"ingredients\" "
      ]
     },
     "metadata": {},
     "output_type": "display_data"
    }
   ],
   "source": [
    "colnames(orders)"
   ]
  },
  {
   "cell_type": "code",
   "execution_count": 52,
   "id": "be0bf98b-8dae-45ac-b9bc-6d3f3e6170f4",
   "metadata": {},
   "outputs": [
    {
     "data": {
      "text/plain": [
       "  brand key  name                                \n",
       "1 bj    0_bj Salted Caramel Core                 \n",
       "2 bj    1_bj Netflix & Chilll'd\\342\\204\\242      \n",
       "3 bj    2_bj Chip Happens                        \n",
       "4 bj    3_bj Cannoli                             \n",
       "5 bj    4_bj Gimme S\\342\\200\\231more!\\342\\204\\242\n",
       "6 bj    5_bj Peanut Butter Half Baked\\302\\256    \n",
       "  subhead                                                                                            \n",
       "1 Sweet Cream Ice Cream with Blonde Brownies & a Salted Caramel Core                                 \n",
       "2 Peanut Butter Ice Cream with Sweet & Salty Pretzel Swirls & Fudge Brownies                         \n",
       "3 A Cold Mess of Chocolate Ice Cream with Fudge Chips & Crunchy Potato Chip Swirls                   \n",
       "4 Mascarpone Ice Cream with Fudge-Covered Pastry Shell Pieces & Mascarpone Swirls                    \n",
       "5 Toasted Marshmallow Ice Cream with Chocolate Cookie Swirls, Graham Cracker Swirls & Fudge Flakes   \n",
       "6 Chocolate & Peanut Butter Ice Creams Mixed with Gobs of Peanut Butter Cookie Dough & Fudge Brownies\n",
       "  description                                                                                                                                                                                                                                                                                                                                         \n",
       "1 Find your way to the ultimate ice cream experience with our Cores. Whether your primal urges lead you to the center of salted caramel or directly to the blonde brownies, you\\342\\200\\231ll be in total control of your own ice cream destiny.                                                                                                      \n",
       "2 There\\342\\200\\231s something for everyone to watch on Netflix & flavors for everyone to enjoy from Ben & Jerry\\342\\200\\231s, so we\\342\\200\\231ve teamed up to bring you a chillaxing new creation that\\342\\200\\231s certain to satisfy any sweet or salty snack craving. It\\342\\200\\231s a flavorful world, and everyone is invited to grab a spoon.\n",
       "3 Sometimes \\342\\200\\234chip\\342\\200\\235 happens and everything\\342\\200\\231s a mess, but we Nailed It! with this chip-filled limited batch. When smooth chocolate ice cream meets fudge chips & salty swirls, they pack a serious one-two crunch. The best part? There won\\342\\200\\231t be anything left to clean up.                                 \n",
       "4 As a Limited Batch that captured the rapture of the classic Sicilian dessert, our Cannoli captivated fans like no other Cannoli could. Now that it\\342\\200\\231s a full-time flavor, you and your Cannoli can re-capture the rapture all over again.                                                                                                 \n",
       "5 It\\342\\200\\231s a gimme: there\\342\\200\\231s always room for s\\342\\200\\231more. And we\\342\\200\\231re pretty sure you\\342\\200\\231ll want to make s\\342\\200\\231more room in your freezer for this \\342\\200\\230shmallowy-rich, graham-good-\\342\\200\\230n-chocolatey concoction now that it's full time flavor!.                                         \n",
       "6 If you were more than a little bit smitten with half baked\\302\\256\\342\\200\\231s peanut buttery cousin when it was a Limited Batch, we expect you could be a whole lot smittener now that it\\342\\200\\231s a full-time flavor. Enjoy!                                                                                                                 \n",
       "  rating rating_count\n",
       "1 3.7    208         \n",
       "2 4.0    127         \n",
       "3 4.7    130         \n",
       "4 3.6     70         \n",
       "5 4.5    281         \n",
       "6 4.9     14         \n",
       "  ingredients                                                                                                                                                                                                                                                                                                                                                                                                                          \n",
       "1 CREAM, SKIM MILK, LIQUID SUGAR (SUGAR, WATER), WATER, BROWN SUGAR, SUGAR, MILK, WHEAT FLOUR, EGG YOLKS, CORN SYRUP, EGGS, BUTTER (CREAM, SALT), BUTTEROIL, PECTIN, SEA SALT, SOYBEAN OIL, VANILLA EXTRACT, GUAR GUM, SOY LECITHIN, BAKING POWDER (SODIUM ACID PYROPHOSPHATE, SODIUM BICARBONATE, CORN STARCH, MONOCALCIUM PHOSPHATE), BAKING SODA, SALT, CARRAGEENAN, LACTASE                                                        \n",
       "2 CREAM, SKIM MILK, LIQUID SUGAR (SUGAR, WATER), WATER, SUGAR, PEANUTS, WHEAT FLOUR, CANOLA OIL, EGG YOLKS, CORN STARCH, PEANUT OIL, COCOA POWDER, SALT, SOYBEAN OIL, INVERT CANE SUGAR, MILK FAT, EGGS, EGG WHITES, GUAR GUM, SOY LECITHIN, TAPIOCA STARCH, BAKING SODA, CARRAGEENAN, VANILLA EXTRACT, BARLEY MALT, MALTED BARLEY FLOUR                                                                                               \n",
       "3 CREAM, LIQUID SUGAR (SUGAR, WATER), SKIM MILK, WATER, SUGAR, COCOA (PROCESSED WITH ALKALI), POTATO, COCONUT OIL, CORN SYRUP SOLIDS, SOYBEAN OIL, EGG YOLKS, RICE STARCH, SUNFLOWER OIL, BARLEY MALT, COCOA POWDER, WHEAT FLOUR, MILK, SALT, SOY LECITHIN, YEAST EXTRACT, NATURAL FLAVOR, GUAR GUM, SEA SALT, MILKFAT, VANILLA EXTRACT, ENZYMES, CARRAGEENAN, BAKING SODA. CONTAINS MILK, EGGS, WHEAT AND SOY                         \n",
       "4 CREAM, SKIM MILK, LIQUID SUGAR (SUGAR, WATER),  WATER, CORN SYRUP, COCONUT OIL, SUGAR, DRIED CANE SYRUP, EGG YOLKS, WHEAT FLOUR, MILK, COCOA, NATURAL FLAVOR, GUAR GUM, SOY LECITHIN, BUTTER OIL, NATURAL FLAVORS, LOCUST BEAN GUM, SALT, CITRIC ACID, VANILLA BEAN SEEDS, SOYBEAN OIL, TAPIOCA STARCH, LACTIC ACID, CARRAGEENAN                                                                                                     \n",
       "5 CREAM, SKIM MILK, WATER, LIQUID SUGAR (SUGAR, WATER), SUGAR, CANOLA OIL, SOYBEAN OIL, EGG YOLKS, CORN SYRUP, WHEAT FLOUR, COCONUT OIL, CORN STARCH, COCOA (PROCESSED WITH ALKALI), CORN SYRUP SOLIDS, COCOA, GRAHAM FLOUR, SALT, EGG WHITES, BUTTEROIL, TAPIOCA STARCH, GUAR GUM, SOY LECITHIN, BAKING SODA, NATURAL FLAVOR, MOLASSES, HONEY, VANILLA EXTRACT, PECTIN, CARAMELIZED SUGAR SYRUP, CARRAGEENAN                          \n",
       "6 CREAM, LIQUID SUGAR (SUGAR, WATER), SKIM MILK, WATER, SUGAR, WHEAT FLOUR, PEANUTS, COCOA (PROCESSED WITH ALKALI), BROWN SUGAR, EGG YOLKS, COCOA POWDER, PEANUT OIL, SOYBEAN OIL, BUTTER (CREAM, SALT), INVERT CANE SUGAR, SALT, CHOCOLATE LIQUOR, EGGS, TAPIOCA FLOUR, PEANUT FLOUR, PEANUT EXTRACT, VANILLA EXTRACT, EGG WHITES, GUAR GUM, COCOA BUTTER, NATURAL FLAVOR, CARRAGEENAN, SOY LECITHIN, BAKING SODA, MALTED BARLEY FLOUR"
      ]
     },
     "metadata": {},
     "output_type": "display_data"
    }
   ],
   "source": [
    "head(orders)"
   ]
  },
  {
   "cell_type": "markdown",
   "id": "fc601975-35ed-4680-a4e1-0273ee3cc047",
   "metadata": {},
   "source": [
    "## Question 2"
   ]
  },
  {
   "cell_type": "code",
   "execution_count": 53,
   "id": "8cac56ce-8010-4c57-87a1-934cfffb0b7a",
   "metadata": {},
   "outputs": [
    {
     "data": {
      "text/plain": [
       "[1] \"key\"         \"author\"      \"date\"        \"stars\"       \"title\"      \n",
       "[6] \"helpful_yes\" \"helpful_no\"  \"text\"       "
      ]
     },
     "metadata": {},
     "output_type": "display_data"
    }
   ],
   "source": [
    "colnames(bigDF)"
   ]
  },
  {
   "cell_type": "code",
   "execution_count": 54,
   "id": "c2a5bc7c-ffbb-4b96-a4e6-2636c4a3d202",
   "metadata": {},
   "outputs": [
    {
     "data": {
      "text/plain": [
       "  key  author         date       stars title                                  \n",
       "1 0_bj Ilovebennjerry 2017-04-15 3     Not enough brownies!                   \n",
       "2 0_bj Sweettooth909  2020-01-05 5     I\\342\\200\\231m OBSESSED with this pint!\n",
       "3 0_bj LaTanga71      2018-04-26 3     My favorite...More Caramel Please      \n",
       "4 0_bj chicago220     2018-01-14 5     Obsessed!!!                            \n",
       "5 0_bj Kassidyk       2020-07-24 1     Worst Ice Cream Ever!                  \n",
       "6 0_bj Nikiera        2020-07-23 2     Way Too Salty                          \n",
       "  helpful_yes helpful_no\n",
       "1 10          3         \n",
       "2  3          0         \n",
       "3  5          2         \n",
       "4 24          1         \n",
       "5  1          5         \n",
       "6  3          1         \n",
       "  text                                                                                                                                                                                                                                                                                                                                                                                                                                                                                                                                                                                                                                                                                                                                         \n",
       "1 Super good, don't get me wrong. But I came for the caramel and brownies, not the sweet cream. The packaging made it seem like brownies were packed and bountiful *crying frowny emoji* I'd say the taste of this was amazing, but the ratio of brownie to sweet cream was disappointing. Liked it regardless but probably won't buy again simply because it didn't live up to its promising package. I'll find another one that has a better ratio and wayyy more yummy chewy brownies.\\nOverall, good flavor, texture, idea, and brownies. Not so great caramel/sweet cream/ brownie RATIO. Just add more brownies. Please.                                                                                                                 \n",
       "2 I decided to try it out although I\\342\\200\\231m not a huge caramel fan, and the first buy was ok, didn\\342\\200\\231t like the caramel too much and for some reason that specific pint barely had any brownies! Like there were some on top but from the middle to the bottom? Zilch. Nada. Nothing! It was disappointing. But for some reason, I bought it again and I really do believe it was just that point bcuz the second one was glorious!! I had a big brownie chunk in EVERY bite. Plus the caramel didn\\342\\200\\231t bother me as much and I took a liking to it. Conclusion: I\\342\\200\\231m on my fifth pint, of the week and I\\342\\200\\231m going back to get my daily pint cus I\\342\\200\\231m kinda sick and need some happiness.\n",
       "3 My caramel core begins to disappear about half way through. I only buy this for the caramel core. The first time I purchased this I was not even aware that there were blonde bits in there. You had me a salted caramel core, well this is the fourth pint that I have purchased and the caramel is plentiful at the top then it begins to get sparse about half way down at 3/4s of the way down its gone. It works out in my husbands favor because he doesn't care for the caramel so he gets to finish my pint while having a full pint of his choice. Please please please, its called salted caramel core for a reason. Let the caramel flow through the core. P.S. You could put a little extra in there, I totally would not mind.  \n",
       "4 Why are people complaining about the blonde brownies? If you don\\342\\200\\231t like blonde brownies, get ice cream with fudge brownies! I LOVE the blonde brownies and cannot get enough of them. This ice cream is by far my favorite. I have driven to multiple stores to try and find it... and when I do, I stock up! I\\342\\200\\231ve tried other flavors when I can\\342\\200\\231t find this one, and none of them even come close to making me as happy as this does! I\\342\\200\\231d say sometimes the caramel to brownie ratio is a little off at times (more brownies please!), but I\\342\\200\\231ll still always enjoy it nevertheless!                                                                                                 \n",
       "5 This ice cream is worst ice cream I\\342\\200\\231ve ever tasted. I was beyond excited when I picked it up today and couldn\\342\\200\\231t wait to get home and try it. First the sweet cream ice cream has no flavour. But that\\342\\200\\231s fine I could get past that, but the salted caramel core is what\\342\\200\\231s really wrong. It\\342\\200\\231s disgusting and so salty it\\342\\200\\231s actually inedible. I\\342\\200\\231ve had ice cream before that I have really enjoyed but never to the point where I physically can not stomach it. I love salted caramel but this is just another level. I actually came here to read the reviews and see how others thought of it just in case mine was a bad batch. Never again!                 \n",
       "6 I bought this last night to go with Louisiana Crunch cake because I was craving that salty and sweet flavor. Unfortunately, I was not thrilled with the salted caramel core of this ice cream. Usually, when you have salted caramel, the salt enhances the flavor of the caramel. The salt in this core OVERWHELMED everything, even the cake. It was disappointing to not enjoy my dessert and I doubt I'll be finishing this pint of ice cream, which is a shame because you should never have to throw away ice cream.                                                                                                                                                                                                                   "
      ]
     },
     "metadata": {},
     "output_type": "display_data"
    }
   ],
   "source": [
    "head(bigDF)"
   ]
  },
  {
   "cell_type": "code",
   "execution_count": 36,
   "id": "773aa281-ff21-4f8b-9711-d05fb4fb3f0a",
   "metadata": {},
   "outputs": [
    {
     "data": {
      "text/plain": [
       "\n",
       "10-2015 12-2015 02-2016 10-2020 11-2015 01-2016 02-2017 11-2016 10-2016 12-2016 \n",
       "      5      10      16      16      22      27      32      32      35      36 \n",
       "03-2016 09-2016 06-2016 03-2017 05-2016 07-2016 01-2017 04-2016 08-2016 04-2017 \n",
       "     46      46      47      49      50      51      56      62      79     101 \n",
       "12-2017 11-2017 02-2018 05-2017 01-2018 06-2017 10-2019 12-2019 10-2017 11-2019 \n",
       "    104     184     187     213     217     219     230     233     238     249 \n",
       "12-2018 03-2018 09-2019 10-2018 11-2018 02-2019 04-2018 01-2020 05-2018 08-2020 \n",
       "    258     260     287     307     317     321     331     338     339     339 \n",
       "08-2017 08-2018 02-2020 08-2019 03-2020 09-2018 06-2019 07-2018 03-2019 05-2019 \n",
       "    343     346     366     366     373     378     401     403     425     427 \n",
       "07-2019 04-2020 04-2019 01-2019 07-2017 09-2017 05-2020 06-2018 09-2020 06-2020 \n",
       "    437     449     476     485     486     501     502     639     728     764 \n",
       "07-2020 \n",
       "   1735 "
      ]
     },
     "metadata": {},
     "output_type": "display_data"
    }
   ],
   "source": [
    "sort(table(format(bigDF$date,\"%m-%Y\")))"
   ]
  },
  {
   "cell_type": "code",
   "execution_count": 38,
   "id": "66b1d8b5-2682-48af-b27a-ea386ff00900",
   "metadata": {},
   "outputs": [
    {
     "data": {
      "image/png": "[encoded data removed]",
      "text/plain": [
       "plot without title"
      ]
     },
     "metadata": {
      "image/png": {
       "height": 420,
       "width": 420
      }
     },
     "output_type": "display_data"
    }
   ],
   "source": [
    "barplot(sort(table(format(bigDF$date,\"%m-%Y\"))))"
   ]
  },
  {
   "cell_type": "markdown",
   "id": "14dc22d4-ddc3-41cc-a91a-cb0025bc0c80",
   "metadata": {},
   "source": [
    "Markdown notes and sentences and analysis written here."
   ]
  },
  {
   "cell_type": "markdown",
   "id": "8e586edd-ff26-4ce2-8f6b-2424b26f2929",
   "metadata": {},
   "source": [
    "## Question 3"
   ]
  },
  {
   "cell_type": "code",
   "execution_count": 47,
   "id": "bbe0f40d-9655-4653-9ca8-886bdb61cb91",
   "metadata": {},
   "outputs": [
    {
     "data": {
      "text/plain": [
       "49_breyers      50_bj 51_breyers 66_breyers 38_breyers  9_talenti \n",
       "  1.191011   1.831325   2.423077   2.483871   2.621622   2.759615 "
      ]
     },
     "metadata": {},
     "output_type": "display_data"
    }
   ],
   "source": [
    "head(sort(tapply(bigDF$stars, bigDF$key, mean)))"
   ]
  },
  {
   "cell_type": "code",
   "execution_count": 48,
   "id": "c233122c-8983-48a1-a9e7-1a8adef498aa",
   "metadata": {},
   "outputs": [
    {
     "data": {
      "text/plain": [
       "  key        author      date       stars title                     helpful_yes\n",
       "1 44_talenti TwirlyGirly 2019-08-28 1     Good idea; poor execution 2          \n",
       "  helpful_no\n",
       "1 8         \n",
       "  text                                                                                                                                                                                                                                                                                                                                                                                                                                                                                                                                                                                                                                                                                                                                                                                                                                                                                                                                                                                                                                                                                                                                                                                                                                                                                                                                                                                                                                                                                                                                                                                                                                                                                                                                                                                                                                                                                                                                                                                                                                                                                                                                                                                                                                                                                                                                                                                                                                                                                                                                                                                                                                                        \n",
       "1 First, why is it up until a few months ago I was always able to open jars of Talenti, but now I can't? I have to ask a neighbor to come over to open every. single. jar..\\nI was excited to hear about the new Talenti Layers. But when I finally saw them in a store, I realized there is no way to *serve* the product.\\n\\nThere were a couple of customers reaching bfor jars as I mused on this, and so I asked them; \"\"How in the world do you scoop this into a dish to get a bit of each layer?\"\" They both replied \"\"You can't.\"\" Then one of the women explained the only way to eat them is straight out of the jar.\\nKnowing that ice cream/gelato that's refrozen after being partially melted develops ice crystals and becomes grainy, I asked about their experience with that issue. Both admitted they avoid it by eating the entire jar in one sitting.\\nWell, I can't eat an entire jar of Talenti in one sitting. But I bought a jar of the Vanilla Fudge Cookie anyway. That night, I got a spoon and used it to spoon through the jar vertically to get a taste of each layer. I ate about 1/3 of the jar that night, then screwed the top back on and put it back in the freezer.\\nThree days later, I decided to have a bit more - and as I had predicted, ice crystals had formed and the previously creamy gelato layers were grainy. Tasted more like ice milk.\\nThe idea for a layered product was a good one, but a container that would allow portions to be scooped out would have been better. Or, perhaps selling the Layers in 3-pack/single serving jars.\\nFor this reason, I won't be purchasing Talenti Layers again.\\nI'm also not sure creating a product that practically requires consumers choose between eating an entire 3 serving, 930 calorie jar in one sitting OR wasting 2/3 of the jar is socially responsible. 2/3 of adults and 1/3 of children in America are overweight, obese, or morbidly obese.\\nThe two women I was chatting with in the store who admitted to eating the entire jar in one sitting?\\nBoth clinically obese.\\nWe're so glad to hear how much you love our Gelatos, even though our new Talenti Layers Vanilla Fudge Cookie didn't quite meet your expectations, and that you had some trouble with those lids. We create our packaging with consumer convenience in mind, and we've forwarded your feedback to the appropriate staff. We'd love to gather some additional details regarding what happened, and to try to help you with those lids - please feel free to reach out to us directly via email at consumer.services@unilever.com so we can further assist you. Thanks!"
      ]
     },
     "metadata": {},
     "output_type": "display_data"
    }
   ],
   "source": [
    "bigDF[nchar(bigDF$text) >= 2500]"
   ]
  },
  {
   "cell_type": "markdown",
   "id": "47c6229f-35f7-400c-8366-c442baa5cf47",
   "metadata": {},
   "source": [
    "Markdown notes and sentences and analysis written here."
   ]
  },
  {
   "cell_type": "markdown",
   "id": "da22f29c-d245-4d2b-9fc1-ca14cb6087d9",
   "metadata": {},
   "source": [
    "## Question 4"
   ]
  },
  {
   "cell_type": "code",
   "execution_count": 67,
   "id": "8cffc767-d1c8-4d64-b7dc-f0d2ee8a80d1",
   "metadata": {},
   "outputs": [
    {
     "data": {
      "text/plain": [
       "[1] \"FuzzyGut\"  \"Anonymous\" \"\"         "
      ]
     },
     "metadata": {},
     "output_type": "display_data"
    }
   ],
   "source": [
    "tail(names(sort(table(bigDF$author))),3)"
   ]
  },
  {
   "cell_type": "code",
   "execution_count": 57,
   "id": "c7cbd39e-5d95-4b81-96f1-aa3fae3711b5",
   "metadata": {},
   "outputs": [
    {
     "data": {
      "text/plain": [
       "  key   author   date       stars title                          helpful_yes\n",
       "1 36_bj FuzzyGut 2020-02-16 1     Why does this keep happening?! 24         \n",
       "  helpful_no\n",
       "1 25        \n",
       "  text                                                                                                                                                                                                                                                                                                                                                                                                                                                                                                                                                                                                                                                                                                                                                                                          \n",
       "1 So this is the second pint of a peanut butter focused flavor (the first being peanut buttah core) where the swirls are rock hard and jammed in the middle of the pint! I don\\342\\200\\231t get it. I have had countless Ben and Jerry\\342\\200\\231s pints and most have been perfect but I have to admit this is really starting to bother me! It isn\\342\\200\\231t supposed to be this way. I don\\342\\200\\231t to stop exploring new flavors but I feel like maybe I should just stick to my tried-and-true favorites. I\\342\\200\\231m sorry to be a downer but I\\342\\200\\231m really not happy that 2 out of 2 peanut butter pints had inedible swirls and cores! I usually give gushing, glowing reviews on here and I\\342\\200\\231m not a hard to please jerk. I just want ice cream I can eat."
      ]
     },
     "metadata": {},
     "output_type": "display_data"
    }
   ],
   "source": [
    "bigDF[(bigDF$author == \"FuzzyGut\") & (bigDF$stars == 1), ]"
   ]
  },
  {
   "cell_type": "markdown",
   "id": "0d552245-b4d6-474a-9cc9-fa7b8e674d55",
   "metadata": {},
   "source": [
    "Markdown notes and sentences and analysis written here."
   ]
  },
  {
   "cell_type": "markdown",
   "id": "f76442d6-d02e-4f26-b9d6-c3183e1d6929",
   "metadata": {},
   "source": [
    "## Pledge\n",
    "\n",
    "By submitting this work I hereby pledge that this is my own, personal work. I've acknowledged in the designated place at the top of this file all sources that I used to complete said work, including but not limited to: online resources, books, and electronic communications. I've noted all collaboration with fellow students and/or TA's. I did not copy or plagiarize another's work.\n",
    "\n",
    "> As a Boilermaker pursuing academic excellence, I pledge to be honest and true in all that I do. Accountable together – We are Purdue."
   ]
  }
 ],
 "metadata": {
  "kernelspec": {
   "display_name": "seminar-r",
   "language": "R",
   "name": "seminar-r"
  },
  "language_info": {
   "codemirror_mode": "r",
   "file_extension": ".r",
   "mimetype": "text/x-r-source",
   "name": "R",
   "pygments_lexer": "r",
   "version": "4.3.1"
  }
 },
 "nbformat": 4,
 "nbformat_minor": 5
}
