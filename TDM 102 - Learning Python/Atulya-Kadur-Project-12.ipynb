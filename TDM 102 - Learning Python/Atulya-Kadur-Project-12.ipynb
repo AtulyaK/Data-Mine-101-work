{
 "cells": [
  {
   "cell_type": "markdown",
   "id": "be02a957-7133-4d02-818e-fedeb3cecb05",
   "metadata": {},
   "source": [
    "# Project 12 -- Atulya Kadur"
   ]
  },
  {
   "cell_type": "markdown",
   "id": "a1228853-dd19-4ab2-89e0-0394d7d72de3",
   "metadata": {},
   "source": []
  },
  {
   "cell_type": "markdown",
   "id": "6180e742-8e39-4698-98ff-5b00c8cf8ea0",
   "metadata": {},
   "source": [
    "## Question 1"
   ]
  },
  {
   "cell_type": "code",
   "execution_count": 1,
   "id": "49445606-d363-41b4-b479-e319a9a84c01",
   "metadata": {},
   "outputs": [],
   "source": [
    "import pandas as pd"
   ]
  },
  {
   "cell_type": "code",
   "execution_count": 2,
   "id": "f3ac2e1f-70c5-4925-a8ba-3502b1603f3d",
   "metadata": {},
   "outputs": [],
   "source": [
    "pd.set_option('display.max_columns', None)"
   ]
  },
  {
   "cell_type": "code",
   "execution_count": 59,
   "id": "7443a9f9-c372-43bd-969c-97c9a3cbf39e",
   "metadata": {},
   "outputs": [],
   "source": [
    "class Flight:\n",
    "    def __init__(self, flight_number, origin_airport_ID, destination_airport_ID, departure_time, arrival_time, departure_delay, arrival_delay):\n",
    "        self.flight_number = flight_number\n",
    "        self.origin_airport_ID = origin_airport_ID\n",
    "        self.destination_airport_ID = destination_airport_ID\n",
    "        self.departure_time = departure_time\n",
    "        self.arrival_time = arrival_time\n",
    "        self.departure_delay = departure_delay\n",
    "        self.arrival_delay = arrival_delay\n",
    "    def get_arrdelay(self):\n",
    "        return self.arrival_delay\n",
    "    def get_depdelay(self):\n",
    "        return self.departure_delay\n",
    "class ScheduledFlight(Flight):\n",
    "    def __init__(self,flight_number, origin_airport_ID, destination_airport_ID, departure_time, arrival_time, departure_delay, arrival_delay, CRS_Dep_Time, CRS_Arr_Time):\n",
    "        super().__init__(flight_number, origin_airport_ID, destination_airport_ID, departure_time, arrival_time, departure_delay, arrival_delay)\n",
    "        self.CRS_Dep_Time = CRS_Dep_Time\n",
    "        self.CRS_Arr_Time = CRS_Arr_Time\n",
    "    def is_ontime(self):\n",
    "        return self.departure_time <= 0 and self.arrival_time <= 0"
   ]
  },
  {
   "cell_type": "markdown",
   "id": "b456e57c-4a12-464b-999a-ef2df5af80c1",
   "metadata": {},
   "source": [
    "Markdown notes and sentences and analysis written here."
   ]
  },
  {
   "cell_type": "markdown",
   "id": "fc601975-35ed-4680-a4e1-0273ee3cc047",
   "metadata": {},
   "source": [
    "## Question 2"
   ]
  },
  {
   "cell_type": "code",
   "execution_count": 49,
   "id": "a16336a1-1ef0-41e8-bc7c-49387db27497",
   "metadata": {},
   "outputs": [],
   "source": [
    "columns_to_read = [\n",
    "    'DepDelay', 'ArrDelay', 'Flight_Number_Reporting_Airline', 'Distance',\n",
    "    'CarrierDelay', 'WeatherDelay', 'CRSDepTime', 'CRSArrTime',\n",
    "    'DepTime', 'ArrTime', 'Origin',\n",
    "    'Dest', 'AirTime'\n",
    "]"
   ]
  },
  {
   "cell_type": "code",
   "execution_count": 55,
   "id": "83826cae-73ce-4558-a9df-ed0baefc8356",
   "metadata": {},
   "outputs": [],
   "source": [
    "col_types = {\n",
    "    'DepDelay': 'float64',\n",
    "    'ArrDelay': 'float64',\n",
    "    'CRSDepTime': 'float64',\n",
    "    'CRSArrTime': 'float64',\n",
    "    'Distance': 'float64',\n",
    "    'CarrierDelay': 'float64',\n",
    "    'WeatherDelay': 'float64',\n",
    "    'DepTime': 'float64',\n",
    "    'ArrTime': 'float64',\n",
    "    'Diverted': 'int64',\n",
    "    'AirTime': 'float64'\n",
    "}"
   ]
  },
  {
   "cell_type": "code",
   "execution_count": 60,
   "id": "a8f20b68-ba84-4324-a4f5-4dfaa1790a27",
   "metadata": {},
   "outputs": [],
   "source": [
    "myDF = pd.read_csv('/anvil/projects/tdm/data/flights/2014.csv',usecols = columns_to_read, dtype = col_types, nrows = 100)"
   ]
  },
  {
   "cell_type": "code",
   "execution_count": 61,
   "id": "200066f5-2cc3-4ed4-b31e-3a3fef314ae2",
   "metadata": {},
   "outputs": [],
   "source": [
    "hundred_flights = []"
   ]
  },
  {
   "cell_type": "code",
   "execution_count": 63,
   "id": "cc899dc5-9bef-41d3-9d29-1d0a8fdc4ddd",
   "metadata": {},
   "outputs": [],
   "source": [
    "for index, row in myDF.iterrows():\n",
    "    myflight = ScheduledFlight(\n",
    "        row['Flight_Number_Reporting_Airline'], row['Origin'], row['Dest'], \n",
    "        row['DepTime'], row['ArrTime'], row['DepDelay'], row['ArrDelay'],\n",
    "        row['CRSDepTime'], row['CRSArrTime']\n",
    "    ) \n",
    "    hundred_flights.append(myflight)"
   ]
  },
  {
   "cell_type": "markdown",
   "id": "14dc22d4-ddc3-41cc-a91a-cb0025bc0c80",
   "metadata": {},
   "source": [
    "Markdown notes and sentences and analysis written here."
   ]
  },
  {
   "cell_type": "markdown",
   "id": "8e586edd-ff26-4ce2-8f6b-2424b26f2929",
   "metadata": {},
   "source": [
    "## Question 3"
   ]
  },
  {
   "cell_type": "code",
   "execution_count": 75,
   "id": "bbe0f40d-9655-4653-9ca8-886bdb61cb91",
   "metadata": {},
   "outputs": [],
   "source": [
    "ontime_count = {}\n",
    "for flight in hundred_flights:\n",
    "    if flight.destination_airport_ID not in ontime_count:\n",
    "        ontime_count[flight.destination_airport_ID] = []\n",
    "    ontime_count[flight.destination_airport_ID].append(flight.is_ontime())"
   ]
  },
  {
   "cell_type": "code",
   "execution_count": 76,
   "id": "278bb4f4-c1f4-4ed8-8d47-01ba972cb082",
   "metadata": {},
   "outputs": [
    {
     "ename": "SyntaxError",
     "evalue": "invalid non-printable character U+00A0 (3569745557.py, line 3)",
     "output_type": "error",
     "traceback": [
      "\u001b[0;36m  Cell \u001b[0;32mIn[76], line 3\u001b[0;36m\u001b[0m\n\u001b[0;31m    print(ontime)\u001b[0m\n\u001b[0m    ^\u001b[0m\n\u001b[0;31mSyntaxError\u001b[0m\u001b[0;31m:\u001b[0m invalid non-printable character U+00A0\n"
     ]
    }
   ],
   "source": [
    "for ontime in ontime_count.values():\n",
    "   print(ontime)"
   ]
  },
  {
   "cell_type": "markdown",
   "id": "47c6229f-35f7-400c-8366-c442baa5cf47",
   "metadata": {},
   "source": [
    "Markdown notes and sentences and analysis written here."
   ]
  },
  {
   "cell_type": "markdown",
   "id": "da22f29c-d245-4d2b-9fc1-ca14cb6087d9",
   "metadata": {},
   "source": [
    "## Question 4"
   ]
  },
  {
   "cell_type": "code",
   "execution_count": null,
   "id": "8cffc767-d1c8-4d64-b7dc-f0d2ee8a80d1",
   "metadata": {},
   "outputs": [],
   "source": [
    "# code here"
   ]
  },
  {
   "cell_type": "markdown",
   "id": "0d552245-b4d6-474a-9cc9-fa7b8e674d55",
   "metadata": {},
   "source": [
    "Markdown notes and sentences and analysis written here."
   ]
  },
  {
   "cell_type": "markdown",
   "id": "88c9cdac-3e92-498f-83fa-e089bfc44ac8",
   "metadata": {},
   "source": [
    "## Question 5"
   ]
  },
  {
   "cell_type": "code",
   "execution_count": null,
   "id": "d370d7c9-06db-42b9-b75f-240481a5c491",
   "metadata": {},
   "outputs": [],
   "source": [
    "# code here"
   ]
  },
  {
   "cell_type": "markdown",
   "id": "9fbf00fb-2418-460f-ae94-2a32b0c28952",
   "metadata": {},
   "source": [
    "Markdown notes and sentences and analysis written here."
   ]
  },
  {
   "cell_type": "markdown",
   "id": "f76442d6-d02e-4f26-b9d6-c3183e1d6929",
   "metadata": {},
   "source": [
    "## Pledge\n",
    "\n",
    "By submitting this work I hereby pledge that this is my own, personal work. I've acknowledged in the designated place at the top of this file all sources that I used to complete said work, including but not limited to: online resources, books, and electronic communications. I've noted all collaboration with fellow students and/or TA's. I did not copy or plagiarize another's work.\n",
    "\n",
    "> As a Boilermaker pursuing academic excellence, I pledge to be honest and true in all that I do. Accountable together – We are Purdue."
   ]
  }
 ],
 "metadata": {
  "kernelspec": {
   "display_name": "seminar",
   "language": "python",
   "name": "seminar"
  },
  "language_info": {
   "codemirror_mode": {
    "name": "ipython",
    "version": 3
   },
   "file_extension": ".py",
   "mimetype": "text/x-python",
   "name": "python",
   "nbconvert_exporter": "python",
   "pygments_lexer": "ipython3",
   "version": "3.11.5"
  }
 },
 "nbformat": 4,
 "nbformat_minor": 5
}
