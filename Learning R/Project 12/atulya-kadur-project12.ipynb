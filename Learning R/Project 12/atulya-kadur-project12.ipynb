{
 "cells": [
  {
   "cell_type": "markdown",
   "id": "be02a957-7133-4d02-818e-fedeb3cecb05",
   "metadata": {},
   "source": [
    "# Project 12 -- Atulya Kadur"
   ]
  },
  {
   "cell_type": "markdown",
   "id": "6180e742-8e39-4698-98ff-5b00c8cf8ea0",
   "metadata": {},
   "source": [
    "## Question 1"
   ]
  },
  {
   "cell_type": "code",
   "execution_count": 2,
   "id": "ca5821d7-37ab-49a3-b2f9-d7bce6246e9d",
   "metadata": {},
   "outputs": [],
   "source": [
    "options(jupyter.rich_display = F)"
   ]
  },
  {
   "cell_type": "code",
   "execution_count": 3,
   "id": "78936b6a-681c-4e16-bb29-7ea44eacbbdc",
   "metadata": {},
   "outputs": [],
   "source": [
    "library(data.table)"
   ]
  },
  {
   "cell_type": "code",
   "execution_count": 4,
   "id": "49445606-d363-41b4-b479-e319a9a84c01",
   "metadata": {},
   "outputs": [],
   "source": [
    "orders <- fread(\"/anvil/projects/tdm/data/restaurant/orders.csv\")"
   ]
  },
  {
   "cell_type": "code",
   "execution_count": 5,
   "id": "2f13f3f2-abb7-46fd-ac7c-7e80f9c37c83",
   "metadata": {},
   "outputs": [
    {
     "data": {
      "text/plain": [
       "[1] 135303     26"
      ]
     },
     "metadata": {},
     "output_type": "display_data"
    }
   ],
   "source": [
    "dim(orders)"
   ]
  },
  {
   "cell_type": "code",
   "execution_count": 6,
   "id": "e2a27354-7143-404a-b8b5-3788d22eea49",
   "metadata": {},
   "outputs": [
    {
     "data": {
      "text/plain": [
       "  akeed_order_id customer_id item_count grand_total payment_mode promo_code\n",
       "1 163238         92PEE24     1           7.6        2                      \n",
       "2 163240         QS68UD8     1           8.7        1                      \n",
       "3 163241         MB7VY5F     2          14.4        1                      \n",
       "4 163244         KDJ951Y     1           7.1        1                      \n",
       "5 163245         BAL0RVT     4          27.2        1                      \n",
       "6 163246         U263OCD     3          18.2        2                      \n",
       "  vendor_discount_amount promo_code_discount_percentage is_favorite is_rated\n",
       "1 0                      NA                                         No      \n",
       "2 0                      NA                                         No      \n",
       "3 0                      NA                                         No      \n",
       "4 0                      NA                                         No      \n",
       "5 0                      NA                                         No      \n",
       "6 0                      NA                                         No      \n",
       "  ... driver_accepted_time ready_for_pickup_time picked_up_time delivered_time\n",
       "1 ... <NA>                 <NA>                  <NA>           <NA>          \n",
       "2 ... <NA>                 <NA>                  <NA>           <NA>          \n",
       "3 ... <NA>                 <NA>                  <NA>           <NA>          \n",
       "4 ... <NA>                 <NA>                  <NA>           <NA>          \n",
       "5 ... <NA>                 <NA>                  <NA>           <NA>          \n",
       "6 ... <NA>                 <NA>                  <NA>           <NA>          \n",
       "  delivery_date       vendor_id created_at          LOCATION_NUMBER\n",
       "1 2019-07-31 05:30:00 105       2019-08-01 05:30:16 0              \n",
       "2 2019-07-31 05:30:00 294       2019-08-01 05:31:10 0              \n",
       "3 2019-07-31 05:30:00  83       2019-08-01 05:31:33 0              \n",
       "4 2019-07-31 05:30:00  90       2019-08-01 05:34:54 0              \n",
       "5 2019-07-31 05:30:00  83       2019-08-01 05:35:51 0              \n",
       "6 2019-07-31 05:30:00  83       2019-08-01 05:37:05 0              \n",
       "  LOCATION_TYPE CID X LOC_NUM X VENDOR\n",
       "1               92PEE24 X 0 X 105     \n",
       "2 Work          QS68UD8 X 0 X 294     \n",
       "3               MB7VY5F X 0 X 83      \n",
       "4 Home          KDJ951Y X 0 X 90      \n",
       "5 Work          BAL0RVT X 0 X 83      \n",
       "6 Work          U263OCD X 0 X 83      "
      ]
     },
     "metadata": {},
     "output_type": "display_data"
    }
   ],
   "source": [
    "head(orders)"
   ]
  },
  {
   "cell_type": "code",
   "execution_count": 7,
   "id": "3dae9909-c48d-45dd-89e6-0bc2d46770c9",
   "metadata": {},
   "outputs": [
    {
     "data": {
      "text/plain": [
       "\n",
       "2019-05 2019-06 2019-07 2019-08 2019-09 2019-10 2019-11 2019-12 2020-01 2020-02 \n",
       "      1   10120   10175    8933    6609   19893   18249   19815   17825   23683 "
      ]
     },
     "metadata": {},
     "output_type": "display_data"
    }
   ],
   "source": [
    "table(substr(orders$created_at, 1, 7))"
   ]
  },
  {
   "cell_type": "code",
   "execution_count": 8,
   "id": "d1a76f45-2d8c-48ff-a425-8b81b8aece3b",
   "metadata": {},
   "outputs": [
    {
     "data": {
      "text/plain": [
       "\n",
       "2019-10 2019-11 2019-12  2019-5  2019-6  2019-7  2019-8  2019-9  2020-1  2020-2 \n",
       "  19893   18249   19815       1   10120   10175    8933    6609   17825   23683 "
      ]
     },
     "metadata": {},
     "output_type": "display_data"
    }
   ],
   "source": [
    "table(paste(year(orders$created_at), month(orders$created_at), sep = \"-\"))"
   ]
  },
  {
   "cell_type": "code",
   "execution_count": 9,
   "id": "68f34432-92e6-4abb-9672-b30b04f7b439",
   "metadata": {},
   "outputs": [
    {
     "data": {
      "text/plain": [
       "\n",
       "2019-05 2019-06 2019-07 2019-08 2019-09 2019-10 2019-11 2019-12 2020-01 2020-02 \n",
       "      1   10120   10175    8933    6609   19893   18249   19815   17825   23683 "
      ]
     },
     "metadata": {},
     "output_type": "display_data"
    }
   ],
   "source": [
    "table(format(orders$created_at, \"%Y-%m\"))"
   ]
  },
  {
   "cell_type": "markdown",
   "id": "b456e57c-4a12-464b-999a-ef2df5af80c1",
   "metadata": {},
   "source": [
    "Markdown notes and sentences and analysis written here."
   ]
  },
  {
   "cell_type": "markdown",
   "id": "fc601975-35ed-4680-a4e1-0273ee3cc047",
   "metadata": {},
   "source": [
    "## Question 2"
   ]
  },
  {
   "cell_type": "code",
   "execution_count": 10,
   "id": "a16336a1-1ef0-41e8-bc7c-49387db27497",
   "metadata": {
    "tags": []
   },
   "outputs": [
    {
     "data": {
      "text/plain": [
       "\n",
       "XW90EAP \n",
       "    262 "
      ]
     },
     "metadata": {},
     "output_type": "display_data"
    }
   ],
   "source": [
    "head(sort(table(orders$customer_id), decreasing = TRUE),1)"
   ]
  },
  {
   "cell_type": "code",
   "execution_count": 11,
   "id": "2ca51008-f787-4a06-b41b-5aa8b462159b",
   "metadata": {},
   "outputs": [],
   "source": [
    "customer <- subset(orders, customer_id == \"XW90EAP\")"
   ]
  },
  {
   "cell_type": "code",
   "execution_count": 12,
   "id": "2dc2671f-13f3-418d-b5ae-c9b50ced93d5",
   "metadata": {},
   "outputs": [
    {
     "data": {
      "text/plain": [
       "\n",
       "2019-06 2019-07 2019-10 2019-08 2019-12 2019-09 2019-11 2020-01 2020-02 \n",
       "     37      36      34      32      30      28      23      23      19 "
      ]
     },
     "metadata": {},
     "output_type": "display_data"
    }
   ],
   "source": [
    "sort(table(format(customer$created_at, \"%Y-%m\")), decreasing = TRUE)"
   ]
  },
  {
   "cell_type": "markdown",
   "id": "14dc22d4-ddc3-41cc-a91a-cb0025bc0c80",
   "metadata": {},
   "source": [
    "June 2019 was the highest ordering out."
   ]
  },
  {
   "cell_type": "markdown",
   "id": "8e586edd-ff26-4ce2-8f6b-2424b26f2929",
   "metadata": {},
   "source": [
    "## Question 3"
   ]
  },
  {
   "cell_type": "code",
   "execution_count": 13,
   "id": "bbe0f40d-9655-4653-9ca8-886bdb61cb91",
   "metadata": {},
   "outputs": [
    {
     "data": {
      "text/plain": [
       "\n",
       "     1      2      3      4      5 \n",
       "104714  22079   1361   6696    453 "
      ]
     },
     "metadata": {},
     "output_type": "display_data"
    }
   ],
   "source": [
    "table(orders$payment_mode)"
   ]
  },
  {
   "cell_type": "code",
   "execution_count": 14,
   "id": "c8790d10-7598-4354-aaac-2f30aea52e2f",
   "metadata": {},
   "outputs": [
    {
     "data": {
      "text/plain": [
       "\n",
       "  2   1   4   5 \n",
       "188  59  14   1 "
      ]
     },
     "metadata": {},
     "output_type": "display_data"
    }
   ],
   "source": [
    "sort(table(customer$payment_mode), decreasing = TRUE)"
   ]
  },
  {
   "cell_type": "markdown",
   "id": "47c6229f-35f7-400c-8366-c442baa5cf47",
   "metadata": {},
   "source": [
    "Markdown notes and sentences and analysis written here."
   ]
  },
  {
   "cell_type": "markdown",
   "id": "da22f29c-d245-4d2b-9fc1-ca14cb6087d9",
   "metadata": {},
   "source": [
    "## Question 4"
   ]
  },
  {
   "cell_type": "code",
   "execution_count": 15,
   "id": "8cffc767-d1c8-4d64-b7dc-f0d2ee8a80d1",
   "metadata": {},
   "outputs": [],
   "source": [
    "ordersJan2020 <- subset(orders,format(created_at, \"%Y-%m\") == \"2020-01\")"
   ]
  },
  {
   "cell_type": "code",
   "execution_count": 18,
   "id": "aa4b71cc-95fd-4e06-839d-83677da0575c",
   "metadata": {},
   "outputs": [
    {
     "data": {
      "text/plain": [
       "\n",
       "   1    2    3    4    5    6    7 \n",
       "2403 2298 2691 2500 2598 2641 2694 "
      ]
     },
     "metadata": {},
     "output_type": "display_data"
    }
   ],
   "source": [
    "table(wday(ordersJan2020$grand_total))"
   ]
  },
  {
   "cell_type": "code",
   "execution_count": 24,
   "id": "15a1c3ec-c171-48e0-94fa-9d3c81da2678",
   "metadata": {},
   "outputs": [
    {
     "data": {
      "image/png": "[encoded data removed]",
      "text/plain": [
       "plot without title"
      ]
     },
     "metadata": {
      "image/png": {
       "height": 420,
       "width": 420
      }
     },
     "output_type": "display_data"
    }
   ],
   "source": [
    "barplot(tapply(ordersJan2020$grand_total,factor(wday(ordersJan2020$created_at)) , sum))"
   ]
  },
  {
   "cell_type": "markdown",
   "id": "0d552245-b4d6-474a-9cc9-fa7b8e674d55",
   "metadata": {},
   "source": [
    "Markdown notes and sentences and analysis written here."
   ]
  },
  {
   "cell_type": "markdown",
   "id": "f76442d6-d02e-4f26-b9d6-c3183e1d6929",
   "metadata": {},
   "source": [
    "## Pledge\n",
    "\n",
    "By submitting this work I hereby pledge that this is my own, personal work. I've acknowledged in the designated place at the top of this file all sources that I used to complete said work, including but not limited to: online resources, books, and electronic communications. I've noted all collaboration with fellow students and/or TA's. I did not copy or plagiarize another's work.\n",
    "\n",
    "> As a Boilermaker pursuing academic excellence, I pledge to be honest and true in all that I do. Accountable together – We are Purdue."
   ]
  }
 ],
 "metadata": {
  "kernelspec": {
   "display_name": "seminar-r",
   "language": "R",
   "name": "seminar-r"
  },
  "language_info": {
   "codemirror_mode": "r",
   "file_extension": ".r",
   "mimetype": "text/x-r-source",
   "name": "R",
   "pygments_lexer": "r",
   "version": "4.3.1"
  }
 },
 "nbformat": 4,
 "nbformat_minor": 5
}
