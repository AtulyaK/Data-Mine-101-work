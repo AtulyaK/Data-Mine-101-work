
# Project 4 -- Atulya Kadur
**TA Help:** 
    
**Collaboration:** 
## Question 1
myDF <- read.csv("/anvil/projects/tdm/data/craigslist/vehicles.csv", stringsAsFactors = TRUE)
options(jupyter.rich_display = T)
options(repr.matrix.max.cols=26, repr.matrix.max.rows=200)
head(sort(myDF$state,increasing="TRUE"),n=5)
tail(sort(table(myDF$state)),n=5)
lessThan2000 <- subset(myDF,price>=2000)
dim(myDF)
dim(lessThan2000)
mean(myDF$price)
names(myDF)
#

**There are 51 unique states. California, Florida, Texas, New York, and Ohio are the top 5 states.**

#

**There are 373,903 cars for over or equal to 2000.**

#

**The mean price of the dataset is 75,199.03 dollars.**
## Question 2
# code here

myDF$mileage_counter <- cut(myDF$odometer, breaks = c(0,50000,100000,150000,Inf),labels = c("Low","Moderate","High","Very High"))
myDF$has_Vin <- rep("Has Vin", times = 426880)
myDF$has_VIN[myDF$VIN == ""] <- "No Vin"
mynchar <- nchar(as.character(myDF$description))
myDF$description_length <- cut(mynchar, breaks = c(0,50,100,200,500,Inf),labels = c("Very Short","Short","Medium","Long","Very Long"))
Markdown notes and sentences and analysis written here.
## Question 3
table(myDF$mileage_counter)
table(myDF$has_Vin)
table(myDF$description_length)
Markdown notes and sentences and analysis written here.
## Question 4
# code here
myTexasDF <- subset(myDF, state == "tx")
table(myTexasDF$state)
myCaliforniaDF <-subset(myDF, state == "ca")
table(myCaliforniaDF$state)
myArizonaDF <-subset(myDF, state == "az")
table(myArizonaDF$state)
Markdown notes and sentences and analysis written here.
## Question 5
# code here
myTexasDF <- subset(myDF, state == "tx"& !is.na(lat) & !is.na(long))
dim(myTexasDF)
library(leaflet)
library(sf)
points <- st_as_sf(myTexasDF, coords=c("long","lat") , crs=4326)
addCircleMarkers(addTiles(leaflet( myTexasDF )) , radius = 1 )
myCaliforniaDF <- subset(myDF, state == "ca"& !is.na(lat) & !is.na(long))
points <- st_as_sf(myCaliforniaDF, coords=c("long","lat") , crs=4326)
addCircleMarkers(addTiles(leaflet( myCaliforniaDF )) , radius = 1 )
myArizonaDF <- subset(myDF, state == "az"& !is.na(lat) & !is.na(long))
points <- st_as_sf(myArizonaDF, coords=c("long","lat") , crs=4326)
addCircleMarkers(addTiles(leaflet( myArizonaDF )) , radius = 1 )
Markdown notes and sentences and analysis written here.
## Pledge

By submitting this work I hereby pledge that this is my own, personal work. I've acknowledged in the designated place at the top of this file all sources that I used to complete said work, including but not limited to: online resources, books, and electronic communications. I've noted all collaboration with fellow students and/or TA's. I did not copy or plagiarize another's work.

> As a Boilermaker pursuing academic excellence, I pledge to be honest and true in all that I do. Accountable together – We are Purdue.
